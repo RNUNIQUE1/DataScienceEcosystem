{
 "cells": [
  {
   "cell_type": "markdown",
   "id": "16a5817b-c8c4-4daa-a536-cf1527b207e2",
   "metadata": {},
   "source": [
    "# DataScienceEcosystem.ipynb #"
   ]
  },
  {
   "cell_type": "markdown",
   "id": "a95869db-0068-4d8f-84e6-62abb16a8c3d",
   "metadata": {},
   "source": [
    "# Data Science Tools and Ecosystem # "
   ]
  },
  {
   "cell_type": "markdown",
   "id": "1d9101ff-1497-4695-b7c5-a092378634f2",
   "metadata": {},
   "source": [
    "this the intro of the data science tools and  eccosystem, how the tools are used in data science to analysis the  big data \n"
   ]
  },
  {
   "cell_type": "markdown",
   "id": "197528d3-3008-47de-b016-65a97c3e433f",
   "metadata": {
    "tags": []
   },
   "source": [
    "# In this notebook, Data Science Tools and Ecosystem are summarized. #\n"
   ]
  },
  {
   "cell_type": "markdown",
   "id": "b486019c-1a1a-4ec2-ac33-7ca186cf8547",
   "metadata": {},
   "source": [
    "# list data science languages #\n",
    "\n"
   ]
  },
  {
   "cell_type": "markdown",
   "id": "459fc098-13bc-4afc-8a81-d7f8b4ccd5ef",
   "metadata": {},
   "source": [
    "Some of the popular languages that Data Scientists use are:\n",
    "\n",
    "1. Python:\n",
    "2. R:\n",
    "3. SQL:\n",
    "4. Julia: \n"
   ]
  },
  {
   "cell_type": "markdown",
   "id": "5dbaaa5b-8845-4b4f-a345-838d6e0a483d",
   "metadata": {},
   "source": [
    "#  list data science libraries #"
   ]
  },
  {
   "cell_type": "markdown",
   "id": "8760a8f9-03b7-4f2a-8867-28bd2383d040",
   "metadata": {},
   "source": [
    "Some of the commonly used libraries used by Data Scientists include:\n",
    "1. NumPy\n",
    "2. Pandas\n",
    "3. Scikit\n",
    "4. Matplotlib\n",
    "5. TensorFlow\n"
   ]
  },
  {
   "cell_type": "markdown",
   "id": "84642713-835a-46cb-bcfc-42d1000005f9",
   "metadata": {},
   "source": [
    "#  a table of Data Science tools #"
   ]
  },
  {
   "cell_type": "markdown",
   "id": "684ca19c-2b11-4003-9bf4-bdbc773195e1",
   "metadata": {},
   "source": [
    "Data Science Tools\n",
    " - Apache Spark\n",
    " - IBM SPSS\n",
    " - Julia\n",
    " - Jupyter Notebook"
   ]
  },
  {
   "cell_type": "markdown",
   "id": "b7ad16d5-bc5b-4b2f-9d8b-d52ede6107d2",
   "metadata": {},
   "source": [
    "Below are a few examples of evaluating arithmetic expressions in Python.\n"
   ]
  },
  {
   "cell_type": "code",
   "execution_count": 2,
   "id": "716262c8-7148-4f5a-8e53-647f0ace225c",
   "metadata": {
    "tags": []
   },
   "outputs": [
    {
     "data": {
      "text/plain": [
       "36"
      ]
     },
     "execution_count": 2,
     "metadata": {},
     "output_type": "execute_result"
    }
   ],
   "source": [
    "2+34"
   ]
  },
  {
   "cell_type": "markdown",
   "id": "1959f192-e16b-41bd-b116-a55295b1f9ca",
   "metadata": {},
   "source": [
    "# multiply and add numbers #"
   ]
  },
  {
   "cell_type": "code",
   "execution_count": 1,
   "id": "be03e31f-13fd-4b2c-bdc5-88c9b154e059",
   "metadata": {
    "tags": []
   },
   "outputs": [
    {
     "data": {
      "text/plain": [
       "17"
      ]
     },
     "execution_count": 1,
     "metadata": {},
     "output_type": "execute_result"
    }
   ],
   "source": [
    "#Insert a comment line before the expression to explain the operation e.g .  \n",
    "(3*4)+5 "
   ]
  },
  {
   "cell_type": "markdown",
   "id": "b303af4c-db0a-45f7-bf7c-2e4c3df22247",
   "metadata": {},
   "source": [
    "# convert minutes to hours #"
   ]
  },
  {
   "cell_type": "code",
   "execution_count": 1,
   "id": "6410f521-03c5-4c03-9565-424fd2c5e49b",
   "metadata": {
    "tags": []
   },
   "outputs": [
    {
     "name": "stdin",
     "output_type": "stream",
     "text": [
      "Enter time in minutes 200\n"
     ]
    },
    {
     "name": "stdout",
     "output_type": "stream",
     "text": [
      "Hours= 3\n",
      "Minutes= 20\n"
     ]
    }
   ],
   "source": [
    "min=int(input(\"Enter time in minutes\"))\n",
    "h=min//60\n",
    "m=min%60\n",
    "print(\"Hours=\",h)\n",
    "print(\"Minutes=\",m)"
   ]
  },
  {
   "cell_type": "markdown",
   "id": "d485f4e3-50a2-4e36-8229-1980cf7eb729",
   "metadata": {
    "tags": []
   },
   "source": [
    "# list Objectives # "
   ]
  },
  {
   "cell_type": "markdown",
   "id": "6bea9e27-1819-4d2d-9325-abaa47ff0e02",
   "metadata": {},
   "source": [
    "# Objectives: #\n",
    "- Apache Spark\n",
    "- IBM SPSS\n",
    "-  Julia\n",
    "- Jupyter Notebook\n",
    "\n",
    "\n"
   ]
  },
  {
   "cell_type": "markdown",
   "id": "72aeb008-669f-476b-aa3a-68844a6c7d83",
   "metadata": {},
   "source": [
    " # indicate the Author's name #"
   ]
  },
  {
   "cell_type": "markdown",
   "id": "62dc1623-5e16-47fe-910c-b121116f0f3d",
   "metadata": {
    "tags": []
   },
   "source": [
    "## Author(s) ##\n",
    "1. NITISH  YADAV \n",
    "2. RAJESHWARE MATHIYA\n",
    "3. VEDANTI MASALE"
   ]
  },
  {
   "cell_type": "code",
   "execution_count": null,
   "id": "366e1ad3-4fba-491f-a007-7d02273c34a4",
   "metadata": {},
   "outputs": [],
   "source": []
  }
 ],
 "metadata": {
  "kernelspec": {
   "display_name": "Python",
   "language": "python",
   "name": "conda-env-python-py"
  },
  "language_info": {
   "codemirror_mode": {
    "name": "ipython",
    "version": 3
   },
   "file_extension": ".py",
   "mimetype": "text/x-python",
   "name": "python",
   "nbconvert_exporter": "python",
   "pygments_lexer": "ipython3",
   "version": "3.7.12"
  }
 },
 "nbformat": 4,
 "nbformat_minor": 5
}
